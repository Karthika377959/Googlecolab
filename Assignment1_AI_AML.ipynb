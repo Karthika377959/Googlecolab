{
  "nbformat": 4,
  "nbformat_minor": 0,
  "metadata": {
    "colab": {
      "provenance": []
    },
    "kernelspec": {
      "name": "python3",
      "display_name": "Python 3"
    },
    "language_info": {
      "name": "python"
    }
  },
  "cells": [
    {
      "cell_type": "markdown",
      "source": [
        "1. A financial analyst stores monthly revenues in a list: [120000, 135000, 128000,\n",
        "142000, 150000]. Find the difference between the highest and lowest revenue without\n",
        "using loops."
      ],
      "metadata": {
        "id": "LlhmohCtUI5N"
      }
    },
    {
      "cell_type": "code",
      "source": [
        "from google.colab import drive\n",
        "drive.mount('/content/drive')"
      ],
      "metadata": {
        "id": "836sAFYt8N9b"
      },
      "execution_count": null,
      "outputs": []
    },
    {
      "cell_type": "code",
      "source": [
        "l1=[120000, 135000, 128000, 142000, 150000]\n",
        "l2=max(l1)-min(l1)\n",
        "l2"
      ],
      "metadata": {
        "colab": {
          "base_uri": "https://localhost:8080/"
        },
        "id": "l1qrUhXhVB6F",
        "outputId": "dc4adaaf-e4ff-4e49-a07d-4fb90cc74177"
      },
      "execution_count": null,
      "outputs": [
        {
          "output_type": "execute_result",
          "data": {
            "text/plain": [
              "30000"
            ]
          },
          "metadata": {},
          "execution_count": 4
        }
      ]
    },
    {
      "cell_type": "markdown",
      "source": [
        "2. Given the tuple account = ('Asha', 'Savings', 56000, 'KCH'), unpack the values into\n",
        "separate variables and print a formatted string: 'Asha has ₹56000 in her Savings\n",
        "account (Branch: KCH)'."
      ],
      "metadata": {
        "id": "WCVqb_FIW2ew"
      }
    },
    {
      "cell_type": "code",
      "source": [
        "Account = ('Asha', 'Savings', 56000, 'KCH')\n",
        "name, account_type, balance, branch = account\n",
        "print(f\"{name} has ₹{balance} in her {account_type} account (Branch: {branch})\")\n"
      ],
      "metadata": {
        "colab": {
          "base_uri": "https://localhost:8080/"
        },
        "id": "EYX_RaosW8KJ",
        "outputId": "d3c3e713-ab8a-49ad-c9f0-e6da0465ff89"
      },
      "execution_count": null,
      "outputs": [
        {
          "output_type": "stream",
          "name": "stdout",
          "text": [
            "Asha has ₹56000 in her Savings account (Branch: KCH)\n"
          ]
        }
      ]
    },
    {
      "cell_type": "markdown",
      "source": [
        "3. Convert the list of string numbers ['45000', '56000', '38000'] to integers and find\n",
        "their average balance."
      ],
      "metadata": {
        "id": "ExX6Bq_MbrFb"
      }
    },
    {
      "cell_type": "code",
      "source": [
        "\n",
        "string_numbers = ['45000', '56000', '38000']\n",
        "numbers = [int(num) for num in string_numbers]\n",
        "average_balance = sum(numbers) / len(numbers)\n",
        "print(f\"The average balance is ₹{average_balance:.2f}\")\n"
      ],
      "metadata": {
        "colab": {
          "base_uri": "https://localhost:8080/"
        },
        "id": "OgOXI3ICb_5_",
        "outputId": "c5e40ecd-ab33-47a1-dd6f-8828c8eac903"
      },
      "execution_count": null,
      "outputs": [
        {
          "output_type": "stream",
          "name": "stdout",
          "text": [
            "The average balance is ₹46333.33\n"
          ]
        }
      ]
    },
    {
      "cell_type": "markdown",
      "source": [
        "4. Create a list with elements: ['Kochi', 'Chennai', 'Mumbai', 'Delhi', 'Pune']. Replace\n",
        "'Delhi' with 'Hyderabad' and print the new list in reverse order using slicing"
      ],
      "metadata": {
        "id": "ILRrbHUXg2Bw"
      }
    },
    {
      "cell_type": "code",
      "source": [
        "\n",
        "cities = ['Kochi', 'Chennai', 'Mumbai', 'Delhi', 'Pune']\n",
        "cities[cities.index('Delhi')] = 'Hyderabad'\n",
        "reversed_cities = cities[::-1]\n",
        "print(reversed_cities)\n"
      ],
      "metadata": {
        "colab": {
          "base_uri": "https://localhost:8080/"
        },
        "id": "tRv2ARvCg3gX",
        "outputId": "dbe90acb-a599-4275-849c-afb2e41baaeb"
      },
      "execution_count": null,
      "outputs": [
        {
          "output_type": "stream",
          "name": "stdout",
          "text": [
            "['Pune', 'Hyderabad', 'Mumbai', 'Chennai', 'Kochi']\n"
          ]
        }
      ]
    },
    {
      "cell_type": "markdown",
      "source": [
        "5.You have two tuples: interest_2024 = (7.1, 7.3, 7.2) and interest_2025 = (7.4, 7.5).\n",
        "Combine them and print the average of all interest rates."
      ],
      "metadata": {
        "id": "dxVRDQl6Mu6n"
      }
    },
    {
      "cell_type": "code",
      "source": [
        "\n",
        "interest_2024 = (7.1, 7.3, 7.2)\n",
        "interest_2025 = (7.4, 7.5)\n",
        "combined_interest = interest_2024 + interest_2025\n",
        "average_interest = sum(combined_interest) / len(combined_interest)\n",
        "\n",
        "print(\"The average interest rate is:\", average_interest)\n"
      ],
      "metadata": {
        "colab": {
          "base_uri": "https://localhost:8080/"
        },
        "id": "zjfXEHzLM0Q6",
        "outputId": "e7e3c680-175b-4c03-f071-562684972ac8"
      },
      "execution_count": null,
      "outputs": [
        {
          "output_type": "stream",
          "name": "stdout",
          "text": [
            "The average interest rate is: 7.3\n"
          ]
        }
      ]
    },
    {
      "cell_type": "markdown",
      "source": [
        "6. A string variable branch_id = 'TVM-FIN-2025'. Extract the branch code (first three\n",
        "letters) and the year (last four digits)"
      ],
      "metadata": {
        "id": "4xHyM00RNOsd"
      }
    },
    {
      "cell_type": "code",
      "source": [
        "\n",
        "branch_id = 'TVM-FIN-2025'\n",
        "branch_code = branch_id[:3]\n",
        "year = branch_id[-4:]\n",
        "print(\"Branch Code:\", branch_code)\n",
        "print(\"Year:\", year)\n"
      ],
      "metadata": {
        "colab": {
          "base_uri": "https://localhost:8080/"
        },
        "id": "jZn4L31nNuCb",
        "outputId": "6a2c4765-ad68-44e1-ad2b-2c137abff4cb"
      },
      "execution_count": null,
      "outputs": [
        {
          "output_type": "stream",
          "name": "stdout",
          "text": [
            "Branch Code: TVM\n",
            "Year: 2025\n"
          ]
        }
      ]
    },
    {
      "cell_type": "markdown",
      "source": [
        "7. Create a list transactions = [10000, -2000, 5000, -1500, 3000]. Without using loops,\n",
        "find total deposits and withdrawals using list slicing or indexing only"
      ],
      "metadata": {
        "id": "KrFpawX-N59I"
      }
    },
    {
      "cell_type": "code",
      "source": [
        "\n",
        "transactions = [10000, -2000, 5000, -1500, 3000]\n",
        "total_deposits = sum(transactions[i] for i in range(len(transactions)) if transactions[i] > 0)\n",
        "total_withdrawals = sum(transactions[i] for i in range(len(transactions)) if transactions[i] < 0)\n",
        "print(\"Total Deposits:\", total_deposits)\n",
        "print(\"Total Withdrawals:\", total_withdrawals)\n"
      ],
      "metadata": {
        "colab": {
          "base_uri": "https://localhost:8080/"
        },
        "id": "Ll8yfxSeN9aO",
        "outputId": "eddc498c-1127-4d1f-cd71-11ecfcd62801"
      },
      "execution_count": null,
      "outputs": [
        {
          "output_type": "stream",
          "name": "stdout",
          "text": [
            "Total Deposits: 18000\n",
            "Total Withdrawals: -3500\n"
          ]
        }
      ]
    },
    {
      "cell_type": "markdown",
      "source": [
        "8. Given name = 'John Doe' and balance = 72500, print a message in title case stating\n",
        "'John Doe has a balance of ₹72500'. Ensure no type errors occur."
      ],
      "metadata": {
        "id": "ODuGJA5bV-0T"
      }
    },
    {
      "cell_type": "code",
      "source": [
        "name = 'John Doe'\n",
        "balance = 72500\n",
        "message = f\"{name} has a balance of ₹{balance}\"\n",
        "print(message.title())\n"
      ],
      "metadata": {
        "colab": {
          "base_uri": "https://localhost:8080/"
        },
        "id": "lSxHSSvvWAEt",
        "outputId": "586eff09-62e1-42d3-93ac-e16bcb01db73"
      },
      "execution_count": null,
      "outputs": [
        {
          "output_type": "stream",
          "name": "stdout",
          "text": [
            "John Doe Has A Balance Of ₹72500\n"
          ]
        }
      ]
    },
    {
      "cell_type": "markdown",
      "source": [
        "9. A tuple customer = ('Kiran', 'Loan', 80000, 7.5). Calculate and print the total amount\n",
        "payable after 1 year if interest is simple interest based on rate 7.5%."
      ],
      "metadata": {
        "id": "jUOKrOAKWIPt"
      }
    },
    {
      "cell_type": "code",
      "source": [
        "\n",
        "customer = ('Kiran', 'Loan', 80000, 7.5)\n",
        "\n",
        "principal = customer[2]\n",
        "rate = customer[3]\n",
        "total_amount_payable = principal * (1 + (rate / 100))\n",
        "print(\"Total Amount Payable After 1 Year: ₹\", total_amount_payable)\n"
      ],
      "metadata": {
        "colab": {
          "base_uri": "https://localhost:8080/"
        },
        "id": "jUBtGjJXWObk",
        "outputId": "5dd0eac5-3fc1-4871-e493-e048034d1a6c"
      },
      "execution_count": null,
      "outputs": [
        {
          "output_type": "stream",
          "name": "stdout",
          "text": [
            "Total Amount Payable After 1 Year: ₹ 86000.0\n"
          ]
        }
      ]
    },
    {
      "cell_type": "markdown",
      "source": [
        "10. Create two lists – branches = ['Kochi', 'Chennai', 'Mumbai'] and profits = [120000,\n",
        "95000, 134000]. Form a new list of tuples pairing each branch with its profit"
      ],
      "metadata": {
        "id": "ALSiYk0ZWYeR"
      }
    },
    {
      "cell_type": "code",
      "source": [
        "branches = ['Kochi', 'Chennai', 'Mumbai']\n",
        "profits = [120000, 95000, 134000]\n",
        "branch_profit_pairs = list(zip(branches, profits))\n",
        "print(\"Branch and Profit pairs:\", branch_profit_pairs)\n"
      ],
      "metadata": {
        "colab": {
          "base_uri": "https://localhost:8080/"
        },
        "id": "UJEdrqk7WeBx",
        "outputId": "269ecbcc-3306-4d0a-8ff3-b889acb94f07"
      },
      "execution_count": null,
      "outputs": [
        {
          "output_type": "stream",
          "name": "stdout",
          "text": [
            "Branch and Profit pairs: [('Kochi', 120000), ('Chennai', 95000), ('Mumbai', 134000)]\n"
          ]
        }
      ]
    },
    {
      "cell_type": "markdown",
      "source": [
        "11. From a list salaries = [45000, 56000, 38000, 62000, 54000], extract the top three\n",
        "salaries using slicing only.\n"
      ],
      "metadata": {
        "id": "YUHvTY-8WqUw"
      }
    },
    {
      "cell_type": "code",
      "source": [
        "\n",
        "salaries = [45000, 56000, 38000, 62000, 54000]\n",
        "top_three_salaries = sorted(salaries, reverse=True)[:3]\n",
        "print(\"Top Three Salaries:\", top_three_salaries)\n"
      ],
      "metadata": {
        "colab": {
          "base_uri": "https://localhost:8080/"
        },
        "id": "x_ZXdeb4W8SQ",
        "outputId": "b4132af1-b1e6-4c56-f8e3-c88295592b4a"
      },
      "execution_count": null,
      "outputs": [
        {
          "output_type": "stream",
          "name": "stdout",
          "text": [
            "Top Three Salaries: [62000, 56000, 54000]\n"
          ]
        }
      ]
    },
    {
      "cell_type": "markdown",
      "source": [
        "\n",
        "12. Given the tuple exchange_rates = (83.2, 83.1, 83.5, 83.0, 82.9), convert it into a list\n",
        "and change the third value to 84.0.\n"
      ],
      "metadata": {
        "id": "3GlinDiAOQG4"
      }
    },
    {
      "cell_type": "code",
      "source": [
        "\n",
        "exchange_rates = (83.2, 83.1, 83.5, 83.0, 82.9)\n",
        "\n",
        "exchange_rates_list = list(exchange_rates)\n",
        "\n",
        "exchange_rates_list[2] = 84.0\n",
        "\n",
        "print(\"Updated Exchange Rates:\", exchange_rates_list)\n"
      ],
      "metadata": {
        "colab": {
          "base_uri": "https://localhost:8080/"
        },
        "id": "LbWctU9_XXBY",
        "outputId": "c551fa65-f040-492f-840c-97451e7abaae"
      },
      "execution_count": null,
      "outputs": [
        {
          "output_type": "stream",
          "name": "stdout",
          "text": [
            "Updated Exchange Rates: [83.2, 83.1, 84.0, 83.0, 82.9]\n"
          ]
        }
      ]
    },
    {
      "cell_type": "markdown",
      "source": [
        "\n",
        "13. Combine two lists customer_names = ['Asha', 'John', 'Meera'] and balances = [56000,\n",
        "72000, 65000] into a formatted string such as 'Asha:56000, John:72000, Meera:65000'\n",
        "without loops.\n",
        "*italicised text*"
      ],
      "metadata": {
        "id": "t1IR6mYyXhII"
      }
    },
    {
      "cell_type": "code",
      "source": [
        "\n",
        "customer_names = ['Asha', 'John', 'Meera']\n",
        "balances = [56000, 72000, 65000]\n",
        "formatted_string = ', '.join(f\"{name}:{balance}\" for name, balance in zip(customer_names, balances))\n",
        "print(\"Formatted String:\", formatted_string)\n"
      ],
      "metadata": {
        "colab": {
          "base_uri": "https://localhost:8080/"
        },
        "id": "m7MVDZ4_XgfZ",
        "outputId": "9dc7872c-30b8-41a7-f636-26004a4f285f"
      },
      "execution_count": null,
      "outputs": [
        {
          "output_type": "stream",
          "name": "stdout",
          "text": [
            "Formatted String: Asha:56000, John:72000, Meera:65000\n"
          ]
        }
      ]
    },
    {
      "cell_type": "markdown",
      "source": [
        "\n",
        "14. Given account_info = (Deepa, 'Savings', 98000), use string formatting to print a\n",
        "sentence 'Account Holder Deepz has ₹98000 in Savings account'.\n"
      ],
      "metadata": {
        "id": "1MgSWzS7X6_R"
      }
    },
    {
      "cell_type": "code",
      "source": [
        "\n",
        "account_info = ('Deepa', 'Savings', 98000)\n",
        "print(f\"Account Holder {account_info[0]} has ₹{account_info[2]} in {account_info[1]} account.\")\n"
      ],
      "metadata": {
        "colab": {
          "base_uri": "https://localhost:8080/"
        },
        "id": "icsaniCDYBPm",
        "outputId": "6768e818-a317-4b25-ac1a-58d6a2731be9"
      },
      "execution_count": null,
      "outputs": [
        {
          "output_type": "stream",
          "name": "stdout",
          "text": [
            "Account Holder Deepa has ₹98000 in Savings account.\n"
          ]
        }
      ]
    },
    {
      "cell_type": "markdown",
      "source": [
        "\n",
        "15. Create a nested list storing branch names and their monthly collections: [['Kochi',\n",
        "[120000, 135000]], ['Chennai', [95000, 110000]]]. Print only the collection of Chennai\n",
        "branch without using loops."
      ],
      "metadata": {
        "id": "JsZxua9vYNGX"
      }
    },
    {
      "cell_type": "code",
      "source": [
        "\n",
        "branch_collections = [['Kochi', [120000, 135000]], ['Chennai', [95000, 110000]]]\n",
        "chennai_collection = branch_collections[1][1]\n",
        "print(\"Chennai Branch Collections:\", chennai_collection)\n"
      ],
      "metadata": {
        "colab": {
          "base_uri": "https://localhost:8080/"
        },
        "id": "0SyV9r-0YYyt",
        "outputId": "f2038e08-6843-4cbb-a326-1ef5163f608e"
      },
      "execution_count": null,
      "outputs": [
        {
          "output_type": "stream",
          "name": "stdout",
          "text": [
            "Chennai Branch Collections: [95000, 110000]\n"
          ]
        }
      ]
    }
  ]
}